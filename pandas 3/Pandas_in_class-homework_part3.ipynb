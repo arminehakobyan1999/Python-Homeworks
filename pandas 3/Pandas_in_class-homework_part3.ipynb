{
 "cells": [
  {
   "cell_type": "markdown",
   "metadata": {},
   "source": [
    "### Import the library pandas as pd\n",
    "\n",
    "#### Import արեք pandas գրադարանը pd  անունով"
   ]
  },
  {
   "cell_type": "code",
   "execution_count": 1,
   "metadata": {},
   "outputs": [],
   "source": [
    "import pandas as pd\n",
    "import numpy as np\n",
    "from datetime import date"
   ]
  },
  {
   "cell_type": "markdown",
   "metadata": {},
   "source": [
    "### Import the dataset gender.txt, assign to a variable gender\n",
    "\n",
    "### Import արեք gender.txt dataset-ը, վերագրեք այն gender փոփոխականին"
   ]
  },
  {
   "cell_type": "code",
   "execution_count": 38,
   "metadata": {},
   "outputs": [],
   "source": [
    "gender = pd.read_csv('gender.txt', sep = '|')"
   ]
  },
  {
   "cell_type": "markdown",
   "metadata": {},
   "source": [
    "### Check the datatypes in the dataframe\n",
    "\n",
    "### Ստուգեք աղյուսակի սյուների տիպերը"
   ]
  },
  {
   "cell_type": "code",
   "execution_count": 3,
   "metadata": {},
   "outputs": [
    {
     "data": {
      "text/plain": [
       "user_id        int64\n",
       "age            int64\n",
       "gender        object\n",
       "occupation    object\n",
       "zip_code      object\n",
       "dtype: object"
      ]
     },
     "execution_count": 3,
     "metadata": {},
     "output_type": "execute_result"
    }
   ],
   "source": [
    "gender.dtypes"
   ]
  },
  {
   "cell_type": "markdown",
   "metadata": {},
   "source": [
    "### Convert the datatype of the column 'occupation' into categorical\n",
    "\n",
    "### Վերածեք 'occupation' սյունը categorical տիպի"
   ]
  },
  {
   "cell_type": "code",
   "execution_count": 4,
   "metadata": {},
   "outputs": [],
   "source": [
    "gender.occupation = gender.occupation.astype('category')"
   ]
  },
  {
   "cell_type": "code",
   "execution_count": 5,
   "metadata": {},
   "outputs": [
    {
     "data": {
      "text/plain": [
       "user_id          int64\n",
       "age              int64\n",
       "gender          object\n",
       "occupation    category\n",
       "zip_code        object\n",
       "dtype: object"
      ]
     },
     "execution_count": 5,
     "metadata": {},
     "output_type": "execute_result"
    }
   ],
   "source": [
    "gender.dtypes"
   ]
  },
  {
   "cell_type": "markdown",
   "metadata": {},
   "source": [
    "### Replace the values in the column 'gender' with Male and Female accordingly. Do this with 2 methods: using apply and map.\n",
    "\n",
    "### Փոխարինեք  'gender' սյան արժեքները Male և Female արժեքներով, արեք սա երկու տարբերակով՝ գործածելով apply և map ֆունկցիաները"
   ]
  },
  {
   "cell_type": "code",
   "execution_count": 6,
   "metadata": {},
   "outputs": [
    {
     "data": {
      "text/plain": [
       "0        Male\n",
       "1      Female\n",
       "2        Male\n",
       "3        Male\n",
       "4      Female\n",
       "        ...  \n",
       "938    Female\n",
       "939      Male\n",
       "940      Male\n",
       "941    Female\n",
       "942      Male\n",
       "Name: gender, Length: 943, dtype: object"
      ]
     },
     "execution_count": 6,
     "metadata": {},
     "output_type": "execute_result"
    }
   ],
   "source": [
    "gender.gender.map({'M':'Male','F':'Female'})"
   ]
  },
  {
   "cell_type": "code",
   "execution_count": 7,
   "metadata": {},
   "outputs": [],
   "source": [
    "def cat(c):\n",
    "    if \"M\" in c:\n",
    "        return \"Male\"\n",
    "    else:\n",
    "        return \"Female\""
   ]
  },
  {
   "cell_type": "code",
   "execution_count": 8,
   "metadata": {},
   "outputs": [
    {
     "data": {
      "text/plain": [
       "0        Male\n",
       "1      Female\n",
       "2        Male\n",
       "3        Male\n",
       "4      Female\n",
       "        ...  \n",
       "938    Female\n",
       "939      Male\n",
       "940      Male\n",
       "941    Female\n",
       "942      Male\n",
       "Name: gender, Length: 943, dtype: object"
      ]
     },
     "execution_count": 8,
     "metadata": {},
     "output_type": "execute_result"
    }
   ],
   "source": [
    "gender.gender.apply(cat)"
   ]
  },
  {
   "cell_type": "markdown",
   "metadata": {},
   "source": [
    "### Calculate the mean, median and std of age values for each occupation\n",
    "\n",
    "### Հաշվեք age սյան mean, median և std արժեքները occupation սյան ամեն արժեքի համար"
   ]
  },
  {
   "cell_type": "code",
   "execution_count": 9,
   "metadata": {},
   "outputs": [
    {
     "data": {
      "text/html": [
       "<div>\n",
       "<style scoped>\n",
       "    .dataframe tbody tr th:only-of-type {\n",
       "        vertical-align: middle;\n",
       "    }\n",
       "\n",
       "    .dataframe tbody tr th {\n",
       "        vertical-align: top;\n",
       "    }\n",
       "\n",
       "    .dataframe thead th {\n",
       "        text-align: right;\n",
       "    }\n",
       "</style>\n",
       "<table border=\"1\" class=\"dataframe\">\n",
       "  <thead>\n",
       "    <tr style=\"text-align: right;\">\n",
       "      <th></th>\n",
       "      <th>mean</th>\n",
       "      <th>median</th>\n",
       "      <th>std</th>\n",
       "    </tr>\n",
       "    <tr>\n",
       "      <th>occupation</th>\n",
       "      <th></th>\n",
       "      <th></th>\n",
       "      <th></th>\n",
       "    </tr>\n",
       "  </thead>\n",
       "  <tbody>\n",
       "    <tr>\n",
       "      <td>administrator</td>\n",
       "      <td>38.746835</td>\n",
       "      <td>37.0</td>\n",
       "      <td>11.123397</td>\n",
       "    </tr>\n",
       "    <tr>\n",
       "      <td>artist</td>\n",
       "      <td>31.392857</td>\n",
       "      <td>30.0</td>\n",
       "      <td>8.668116</td>\n",
       "    </tr>\n",
       "    <tr>\n",
       "      <td>doctor</td>\n",
       "      <td>43.571429</td>\n",
       "      <td>45.0</td>\n",
       "      <td>12.501428</td>\n",
       "    </tr>\n",
       "    <tr>\n",
       "      <td>educator</td>\n",
       "      <td>42.010526</td>\n",
       "      <td>42.0</td>\n",
       "      <td>10.413264</td>\n",
       "    </tr>\n",
       "    <tr>\n",
       "      <td>engineer</td>\n",
       "      <td>36.388060</td>\n",
       "      <td>36.0</td>\n",
       "      <td>11.199236</td>\n",
       "    </tr>\n",
       "    <tr>\n",
       "      <td>entertainment</td>\n",
       "      <td>29.222222</td>\n",
       "      <td>25.0</td>\n",
       "      <td>10.056052</td>\n",
       "    </tr>\n",
       "    <tr>\n",
       "      <td>executive</td>\n",
       "      <td>38.718750</td>\n",
       "      <td>38.5</td>\n",
       "      <td>10.608075</td>\n",
       "    </tr>\n",
       "    <tr>\n",
       "      <td>healthcare</td>\n",
       "      <td>41.562500</td>\n",
       "      <td>44.5</td>\n",
       "      <td>11.313524</td>\n",
       "    </tr>\n",
       "    <tr>\n",
       "      <td>homemaker</td>\n",
       "      <td>32.571429</td>\n",
       "      <td>32.0</td>\n",
       "      <td>10.737119</td>\n",
       "    </tr>\n",
       "    <tr>\n",
       "      <td>lawyer</td>\n",
       "      <td>36.750000</td>\n",
       "      <td>34.0</td>\n",
       "      <td>10.830303</td>\n",
       "    </tr>\n",
       "    <tr>\n",
       "      <td>librarian</td>\n",
       "      <td>40.000000</td>\n",
       "      <td>39.0</td>\n",
       "      <td>11.023611</td>\n",
       "    </tr>\n",
       "    <tr>\n",
       "      <td>marketing</td>\n",
       "      <td>37.615385</td>\n",
       "      <td>36.0</td>\n",
       "      <td>9.474500</td>\n",
       "    </tr>\n",
       "    <tr>\n",
       "      <td>none</td>\n",
       "      <td>26.555556</td>\n",
       "      <td>26.0</td>\n",
       "      <td>13.757826</td>\n",
       "    </tr>\n",
       "    <tr>\n",
       "      <td>other</td>\n",
       "      <td>34.523810</td>\n",
       "      <td>32.0</td>\n",
       "      <td>10.738227</td>\n",
       "    </tr>\n",
       "    <tr>\n",
       "      <td>programmer</td>\n",
       "      <td>33.121212</td>\n",
       "      <td>30.0</td>\n",
       "      <td>9.624512</td>\n",
       "    </tr>\n",
       "    <tr>\n",
       "      <td>retired</td>\n",
       "      <td>63.071429</td>\n",
       "      <td>63.0</td>\n",
       "      <td>5.757461</td>\n",
       "    </tr>\n",
       "    <tr>\n",
       "      <td>salesman</td>\n",
       "      <td>35.666667</td>\n",
       "      <td>34.0</td>\n",
       "      <td>14.079859</td>\n",
       "    </tr>\n",
       "    <tr>\n",
       "      <td>scientist</td>\n",
       "      <td>35.548387</td>\n",
       "      <td>37.0</td>\n",
       "      <td>7.392964</td>\n",
       "    </tr>\n",
       "    <tr>\n",
       "      <td>student</td>\n",
       "      <td>22.081633</td>\n",
       "      <td>21.0</td>\n",
       "      <td>5.284081</td>\n",
       "    </tr>\n",
       "    <tr>\n",
       "      <td>technician</td>\n",
       "      <td>33.148148</td>\n",
       "      <td>30.0</td>\n",
       "      <td>9.867210</td>\n",
       "    </tr>\n",
       "    <tr>\n",
       "      <td>writer</td>\n",
       "      <td>36.311111</td>\n",
       "      <td>36.0</td>\n",
       "      <td>11.423306</td>\n",
       "    </tr>\n",
       "  </tbody>\n",
       "</table>\n",
       "</div>"
      ],
      "text/plain": [
       "                    mean  median        std\n",
       "occupation                                 \n",
       "administrator  38.746835    37.0  11.123397\n",
       "artist         31.392857    30.0   8.668116\n",
       "doctor         43.571429    45.0  12.501428\n",
       "educator       42.010526    42.0  10.413264\n",
       "engineer       36.388060    36.0  11.199236\n",
       "entertainment  29.222222    25.0  10.056052\n",
       "executive      38.718750    38.5  10.608075\n",
       "healthcare     41.562500    44.5  11.313524\n",
       "homemaker      32.571429    32.0  10.737119\n",
       "lawyer         36.750000    34.0  10.830303\n",
       "librarian      40.000000    39.0  11.023611\n",
       "marketing      37.615385    36.0   9.474500\n",
       "none           26.555556    26.0  13.757826\n",
       "other          34.523810    32.0  10.738227\n",
       "programmer     33.121212    30.0   9.624512\n",
       "retired        63.071429    63.0   5.757461\n",
       "salesman       35.666667    34.0  14.079859\n",
       "scientist      35.548387    37.0   7.392964\n",
       "student        22.081633    21.0   5.284081\n",
       "technician     33.148148    30.0   9.867210\n",
       "writer         36.311111    36.0  11.423306"
      ]
     },
     "execution_count": 9,
     "metadata": {},
     "output_type": "execute_result"
    }
   ],
   "source": [
    "gender.groupby('occupation').age.agg([np.mean, np.median, np.std])"
   ]
  },
  {
   "cell_type": "markdown",
   "metadata": {},
   "source": [
    "### Create a new column 'birth_year' and get the birth year of each individual using the values from the column 'age'\n",
    "\n",
    "### Ստեղծեք 'birth_year' անունով նոր սյուն, որում կպահեք ամեն մարդու ծննդյան տարին, որը կստանաք օգտագործելով 'birth_year' սյան արժեքները"
   ]
  },
  {
   "cell_type": "code",
   "execution_count": 10,
   "metadata": {},
   "outputs": [],
   "source": [
    "day = date.today()\n",
    "gender['birth_year'] = day.year - gender.age"
   ]
  },
  {
   "cell_type": "code",
   "execution_count": 11,
   "metadata": {},
   "outputs": [
    {
     "data": {
      "text/html": [
       "<div>\n",
       "<style scoped>\n",
       "    .dataframe tbody tr th:only-of-type {\n",
       "        vertical-align: middle;\n",
       "    }\n",
       "\n",
       "    .dataframe tbody tr th {\n",
       "        vertical-align: top;\n",
       "    }\n",
       "\n",
       "    .dataframe thead th {\n",
       "        text-align: right;\n",
       "    }\n",
       "</style>\n",
       "<table border=\"1\" class=\"dataframe\">\n",
       "  <thead>\n",
       "    <tr style=\"text-align: right;\">\n",
       "      <th></th>\n",
       "      <th>user_id</th>\n",
       "      <th>age</th>\n",
       "      <th>gender</th>\n",
       "      <th>occupation</th>\n",
       "      <th>zip_code</th>\n",
       "      <th>birth_year</th>\n",
       "    </tr>\n",
       "  </thead>\n",
       "  <tbody>\n",
       "    <tr>\n",
       "      <td>0</td>\n",
       "      <td>1</td>\n",
       "      <td>24</td>\n",
       "      <td>M</td>\n",
       "      <td>technician</td>\n",
       "      <td>85711</td>\n",
       "      <td>1997</td>\n",
       "    </tr>\n",
       "    <tr>\n",
       "      <td>1</td>\n",
       "      <td>2</td>\n",
       "      <td>53</td>\n",
       "      <td>F</td>\n",
       "      <td>other</td>\n",
       "      <td>94043</td>\n",
       "      <td>1968</td>\n",
       "    </tr>\n",
       "    <tr>\n",
       "      <td>2</td>\n",
       "      <td>3</td>\n",
       "      <td>23</td>\n",
       "      <td>M</td>\n",
       "      <td>writer</td>\n",
       "      <td>32067</td>\n",
       "      <td>1998</td>\n",
       "    </tr>\n",
       "    <tr>\n",
       "      <td>3</td>\n",
       "      <td>4</td>\n",
       "      <td>24</td>\n",
       "      <td>M</td>\n",
       "      <td>technician</td>\n",
       "      <td>43537</td>\n",
       "      <td>1997</td>\n",
       "    </tr>\n",
       "    <tr>\n",
       "      <td>4</td>\n",
       "      <td>5</td>\n",
       "      <td>33</td>\n",
       "      <td>F</td>\n",
       "      <td>other</td>\n",
       "      <td>15213</td>\n",
       "      <td>1988</td>\n",
       "    </tr>\n",
       "    <tr>\n",
       "      <td>...</td>\n",
       "      <td>...</td>\n",
       "      <td>...</td>\n",
       "      <td>...</td>\n",
       "      <td>...</td>\n",
       "      <td>...</td>\n",
       "      <td>...</td>\n",
       "    </tr>\n",
       "    <tr>\n",
       "      <td>938</td>\n",
       "      <td>939</td>\n",
       "      <td>26</td>\n",
       "      <td>F</td>\n",
       "      <td>student</td>\n",
       "      <td>33319</td>\n",
       "      <td>1995</td>\n",
       "    </tr>\n",
       "    <tr>\n",
       "      <td>939</td>\n",
       "      <td>940</td>\n",
       "      <td>32</td>\n",
       "      <td>M</td>\n",
       "      <td>administrator</td>\n",
       "      <td>02215</td>\n",
       "      <td>1989</td>\n",
       "    </tr>\n",
       "    <tr>\n",
       "      <td>940</td>\n",
       "      <td>941</td>\n",
       "      <td>20</td>\n",
       "      <td>M</td>\n",
       "      <td>student</td>\n",
       "      <td>97229</td>\n",
       "      <td>2001</td>\n",
       "    </tr>\n",
       "    <tr>\n",
       "      <td>941</td>\n",
       "      <td>942</td>\n",
       "      <td>48</td>\n",
       "      <td>F</td>\n",
       "      <td>librarian</td>\n",
       "      <td>78209</td>\n",
       "      <td>1973</td>\n",
       "    </tr>\n",
       "    <tr>\n",
       "      <td>942</td>\n",
       "      <td>943</td>\n",
       "      <td>22</td>\n",
       "      <td>M</td>\n",
       "      <td>student</td>\n",
       "      <td>77841</td>\n",
       "      <td>1999</td>\n",
       "    </tr>\n",
       "  </tbody>\n",
       "</table>\n",
       "<p>943 rows × 6 columns</p>\n",
       "</div>"
      ],
      "text/plain": [
       "     user_id  age gender     occupation zip_code  birth_year\n",
       "0          1   24      M     technician    85711        1997\n",
       "1          2   53      F          other    94043        1968\n",
       "2          3   23      M         writer    32067        1998\n",
       "3          4   24      M     technician    43537        1997\n",
       "4          5   33      F          other    15213        1988\n",
       "..       ...  ...    ...            ...      ...         ...\n",
       "938      939   26      F        student    33319        1995\n",
       "939      940   32      M  administrator    02215        1989\n",
       "940      941   20      M        student    97229        2001\n",
       "941      942   48      F      librarian    78209        1973\n",
       "942      943   22      M        student    77841        1999\n",
       "\n",
       "[943 rows x 6 columns]"
      ]
     },
     "execution_count": 11,
     "metadata": {},
     "output_type": "execute_result"
    }
   ],
   "source": [
    "gender"
   ]
  },
  {
   "cell_type": "markdown",
   "metadata": {},
   "source": [
    "### Create a new column 'birth_date' using the column 'birth_year' and current month and day values\"\n",
    "\n",
    "### Ստեղծեք 'birth_date' անունով նոր սյուն, որի արժեքները կստանաք գործածելով 'birth_year' սյան արժեքները ինչպես նաև այս պահի ամիսն ու օրը։ "
   ]
  },
  {
   "cell_type": "code",
   "execution_count": 12,
   "metadata": {},
   "outputs": [],
   "source": [
    "gender['birth_date'] = gender.birth_year.astype(str) + '/' + str(day.month) + '/' + str(day.day)"
   ]
  },
  {
   "cell_type": "markdown",
   "metadata": {},
   "source": [
    "### Make sure the datatype of the columns 'birth_year' and 'birth_date' is datetime\n",
    "\n",
    "### Վստահ եղեք, որ 'birth_year' և 'birth_date' սյուները datetime տիպի են"
   ]
  },
  {
   "cell_type": "code",
   "execution_count": 13,
   "metadata": {},
   "outputs": [
    {
     "data": {
      "text/plain": [
       "user_id          int64\n",
       "age              int64\n",
       "gender          object\n",
       "occupation    category\n",
       "zip_code        object\n",
       "birth_year       int64\n",
       "birth_date      object\n",
       "dtype: object"
      ]
     },
     "execution_count": 13,
     "metadata": {},
     "output_type": "execute_result"
    }
   ],
   "source": [
    "gender.dtypes"
   ]
  },
  {
   "cell_type": "code",
   "execution_count": 17,
   "metadata": {},
   "outputs": [],
   "source": [
    "gender['birth_year'] = pd.to_datetime(gender['birth_year'])\n",
    "gender['birth_date'] = pd.to_datetime(gender['birth_date'])"
   ]
  },
  {
   "cell_type": "code",
   "execution_count": 15,
   "metadata": {},
   "outputs": [
    {
     "data": {
      "text/plain": [
       "user_id                     int64\n",
       "age                         int64\n",
       "gender                     object\n",
       "occupation               category\n",
       "zip_code                   object\n",
       "birth_year    datetime64[ns, UTC]\n",
       "birth_date    datetime64[ns, UTC]\n",
       "dtype: object"
      ]
     },
     "execution_count": 15,
     "metadata": {},
     "output_type": "execute_result"
    }
   ],
   "source": [
    "gender.dtypes"
   ]
  },
  {
   "cell_type": "markdown",
   "metadata": {},
   "source": [
    "### Change the values in the column user_id to have the values of type string of the same length (use the method of your choice). As an example, if we have values 0, 1 and 100, we could have values '000', '001' and '100' as a result.\n",
    "\n",
    "### Փոխեք user_id սյան արժեքները նույն երկարություն ունեցող string տիպի արժեքներով՝ գործածելով Ձեր ցանկացած մեթոդը։ Որպես օրինակ, եթե ունեք 0, 1 և 100 աևժեքներ, Ձեր արդյունքը կարող է լինել '000', '001' և'100'"
   ]
  },
  {
   "cell_type": "code",
   "execution_count": 36,
   "metadata": {},
   "outputs": [],
   "source": [
    "e = []\n",
    "for i in range(len(gender.user_id)):\n",
    "    if len(str(gender.user_id[i])) == 1:\n",
    "        e.append('00'+str(gender.user_id[i]))\n",
    "    elif len(str(gender.user_id[i])) == 2:\n",
    "        e.append('0'+str(gender.user_id[i]))\n",
    "    else:\n",
    "        e.append(str(gender.user_id[i]))\n",
    "gender.user_id = e"
   ]
  }
 ],
 "metadata": {
  "colab": {
   "name": "In-class.ipynb",
   "provenance": [],
   "version": "0.3.2"
  },
  "kernelspec": {
   "display_name": "Python 3",
   "language": "python",
   "name": "python3"
  },
  "language_info": {
   "codemirror_mode": {
    "name": "ipython",
    "version": 3
   },
   "file_extension": ".py",
   "mimetype": "text/x-python",
   "name": "python",
   "nbconvert_exporter": "python",
   "pygments_lexer": "ipython3",
   "version": "3.7.4"
  }
 },
 "nbformat": 4,
 "nbformat_minor": 1
}
