{
 "cells": [
  {
   "cell_type": "code",
   "execution_count": 28,
   "metadata": {},
   "outputs": [],
   "source": [
    "from random import randrange"
   ]
  },
  {
   "cell_type": "markdown",
   "metadata": {},
   "source": [
    "### Open the file file1.txt\n",
    "### Բացեք file1.txt-ն"
   ]
  },
  {
   "cell_type": "code",
   "execution_count": 1,
   "metadata": {},
   "outputs": [
    {
     "data": {
      "text/plain": [
       "<_io.TextIOWrapper name='file1.txt' mode='r' encoding='cp1252'>"
      ]
     },
     "execution_count": 1,
     "metadata": {},
     "output_type": "execute_result"
    }
   ],
   "source": [
    "open('file1.txt')"
   ]
  },
  {
   "cell_type": "markdown",
   "metadata": {},
   "source": [
    "### Get the first 10 lines of the file file1.txt \n",
    "### Ստացեք file1.txt ֆայլի առաջին 10 տողերը"
   ]
  },
  {
   "cell_type": "code",
   "execution_count": 6,
   "metadata": {},
   "outputs": [
    {
     "data": {
      "text/plain": [
       "['This is the 1st line of file1',\n",
       " 'This is the 2nd line of file1',\n",
       " 'This is the 3rd line of file1',\n",
       " 'This is the 4th line of file1',\n",
       " 'This is the 5th line of file1',\n",
       " 'This is the 6th line of file1',\n",
       " 'This is the 7th line of file1',\n",
       " 'This is the 8th line of file1',\n",
       " 'This is the 9th line of file1',\n",
       " 'This is the 10th line of file1']"
      ]
     },
     "execution_count": 6,
     "metadata": {},
     "output_type": "execute_result"
    }
   ],
   "source": [
    "file = open('file1.txt', 'r', buffering=1).read().splitlines()\n",
    "file[:10]"
   ]
  },
  {
   "cell_type": "markdown",
   "metadata": {},
   "source": [
    "### Write a try ... except clause for opening the file\n",
    "### Օգտագործեք try ... except բլոկ ֆայլը բացելու համար"
   ]
  },
  {
   "cell_type": "code",
   "execution_count": 7,
   "metadata": {},
   "outputs": [
    {
     "name": "stdout",
     "output_type": "stream",
     "text": [
      "Exit\n"
     ]
    }
   ],
   "source": [
    "try:\n",
    "    file = open('file1.txt')\n",
    "except IOError:\n",
    "    print('File not found or path is incorrect')\n",
    "finally:\n",
    "    print('Exit')"
   ]
  },
  {
   "cell_type": "code",
   "execution_count": 8,
   "metadata": {},
   "outputs": [
    {
     "name": "stdout",
     "output_type": "stream",
     "text": [
      "File not found or path is incorrect\n",
      "Exit\n"
     ]
    }
   ],
   "source": [
    "try:\n",
    "    file = open('not-found.txt')\n",
    "except IOError:\n",
    "    print('File not found or path is incorrect')\n",
    "finally:\n",
    "    print('Exit')"
   ]
  },
  {
   "cell_type": "markdown",
   "metadata": {},
   "source": [
    "### Find the number of lines in the file. \n",
    "### Գտեք ֆայլի տողերի քանակը"
   ]
  },
  {
   "cell_type": "code",
   "execution_count": 10,
   "metadata": {},
   "outputs": [
    {
     "data": {
      "text/plain": [
       "10"
      ]
     },
     "execution_count": 10,
     "metadata": {},
     "output_type": "execute_result"
    }
   ],
   "source": [
    "file = open('file1.txt', 'r', buffering=1).read().splitlines()\n",
    "len(file)"
   ]
  },
  {
   "cell_type": "markdown",
   "metadata": {},
   "source": [
    "### Create a list each entry of which will be a line from our file. Ignore the new line characters ('\\n').\n",
    "### Ստեղծեք list, որը յուրաքանչյուր տարր իրենից ներկայացնում է մեր ֆայլի մեկ տող, անտեսեք '\\n'-երը"
   ]
  },
  {
   "cell_type": "code",
   "execution_count": 14,
   "metadata": {},
   "outputs": [
    {
     "name": "stdout",
     "output_type": "stream",
     "text": [
      "<class 'list'>\n"
     ]
    },
    {
     "data": {
      "text/plain": [
       "['This is the 1st line of file1',\n",
       " 'This is the 2nd line of file1',\n",
       " 'This is the 3rd line of file1',\n",
       " 'This is the 4th line of file1',\n",
       " 'This is the 5th line of file1',\n",
       " 'This is the 6th line of file1',\n",
       " 'This is the 7th line of file1',\n",
       " 'This is the 8th line of file1',\n",
       " 'This is the 9th line of file1',\n",
       " 'This is the 10th line of file1']"
      ]
     },
     "execution_count": 14,
     "metadata": {},
     "output_type": "execute_result"
    }
   ],
   "source": [
    "file = open('file1.txt', 'r', buffering=1).read().splitlines()\n",
    "print(type(file))\n",
    "file"
   ]
  },
  {
   "cell_type": "markdown",
   "metadata": {},
   "source": [
    "### Open and read the file file2.txt\n",
    "### Բացեք և կարդացեք file2.txt ֆայլը"
   ]
  },
  {
   "cell_type": "code",
   "execution_count": 15,
   "metadata": {},
   "outputs": [],
   "source": [
    "file2 = open('file2.txt').read()"
   ]
  },
  {
   "cell_type": "markdown",
   "metadata": {},
   "source": [
    "### Read the file file2.txt line by line and write its contents into the new file file3.txt\n",
    "### Տող առ տող կարդացեք file2.txt ֆայլը ու իր պարունակությունը գրեք նոր file3.txt ֆայլում"
   ]
  },
  {
   "cell_type": "code",
   "execution_count": 18,
   "metadata": {},
   "outputs": [],
   "source": [
    "new_file3 = open('file3.txt', mode = 'a+', encoding = 'utf-8')\n",
    "file = open('file2.txt')\n",
    "\n",
    "for line in file.readlines():\n",
    "    new_file3.write(line)\n",
    "    \n",
    "new_file3.close()"
   ]
  },
  {
   "cell_type": "code",
   "execution_count": 25,
   "metadata": {},
   "outputs": [
    {
     "name": "stdout",
     "output_type": "stream",
     "text": [
      "['This is the 1st line of file2\\n', 'This is the 2nd line of file2\\n', 'This is the 3rd line of file2\\n', 'This is the 4th line of file2\\n', 'This is the 5th line of file2']\n",
      "['This is the 1st line of file2\\n', 'This is the 2nd line of file2\\n', 'This is the 3rd line of file2\\n', 'This is the 4th line of file2\\n', 'This is the 5th line of file2']\n"
     ]
    }
   ],
   "source": [
    "file2 = open('file2.txt')\n",
    "print(file2.readlines())\n",
    "file3 = open('file3.txt')\n",
    "print(file3.readlines())\n"
   ]
  },
  {
   "cell_type": "markdown",
   "metadata": {},
   "source": [
    "### Read the file file2.txt line by line and write its contents at the end of the file file1.txt\n",
    "### Տող առ տող կարդացեք file2.txt ֆայլը ու իր պարունակությունը կցեք  file1.txt ֆայլի վերջից"
   ]
  },
  {
   "cell_type": "code",
   "execution_count": 26,
   "metadata": {},
   "outputs": [],
   "source": [
    "file1 = open('file1.txt', mode = 'a+', encoding = 'utf-8')\n",
    "file2 = open('file2.txt')\n",
    "\n",
    "for line in file2.readlines():\n",
    "    file1.write(line)\n",
    "    \n",
    "file1.close()"
   ]
  },
  {
   "cell_type": "code",
   "execution_count": 27,
   "metadata": {},
   "outputs": [
    {
     "data": {
      "text/plain": [
       "['This is the 1st line of file1\\n',\n",
       " 'This is the 2nd line of file1\\n',\n",
       " 'This is the 3rd line of file1\\n',\n",
       " 'This is the 4th line of file1\\n',\n",
       " 'This is the 5th line of file1\\n',\n",
       " 'This is the 6th line of file1\\n',\n",
       " 'This is the 7th line of file1\\n',\n",
       " 'This is the 8th line of file1\\n',\n",
       " 'This is the 9th line of file1\\n',\n",
       " 'This is the 10th line of file1This is the 1st line of file2\\n',\n",
       " 'This is the 2nd line of file2\\n',\n",
       " 'This is the 3rd line of file2\\n',\n",
       " 'This is the 4th line of file2\\n',\n",
       " 'This is the 5th line of file2']"
      ]
     },
     "execution_count": 27,
     "metadata": {},
     "output_type": "execute_result"
    }
   ],
   "source": [
    "file1 = open('file1.txt')\n",
    "file1.readlines()"
   ]
  },
  {
   "cell_type": "markdown",
   "metadata": {},
   "source": [
    "### * Write a Python program to read a random line from the file file1.txt.\n",
    "### Գրեք ծրագիր, որի արդյունքում կստանանք file1.txt ֆայլի մեկ պատահական տող  "
   ]
  },
  {
   "cell_type": "code",
   "execution_count": 31,
   "metadata": {},
   "outputs": [
    {
     "data": {
      "text/plain": [
       "'This is the 8th line of file1\\n'"
      ]
     },
     "execution_count": 31,
     "metadata": {},
     "output_type": "execute_result"
    }
   ],
   "source": [
    "file1 = open('file1.txt').readlines()\n",
    "\n",
    "r_str = randrange(len(file1))\n",
    "file1[r_str]"
   ]
  }
 ],
 "metadata": {
  "kernelspec": {
   "display_name": "Python 3",
   "language": "python",
   "name": "python3"
  },
  "language_info": {
   "codemirror_mode": {
    "name": "ipython",
    "version": 3
   },
   "file_extension": ".py",
   "mimetype": "text/x-python",
   "name": "python",
   "nbconvert_exporter": "python",
   "pygments_lexer": "ipython3",
   "version": "3.7.4"
  }
 },
 "nbformat": 4,
 "nbformat_minor": 2
}
